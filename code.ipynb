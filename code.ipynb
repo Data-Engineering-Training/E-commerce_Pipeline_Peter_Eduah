{
 "cells": [
  {
   "cell_type": "code",
   "execution_count": 1,
   "metadata": {},
   "outputs": [
    {
     "name": "stdout",
     "output_type": "stream",
     "text": [
      "Schema validation failed for CSV file 'Market 1 Orders.csv'.\n",
      "Schema validation failed for CSV file 'Market 1 Deliveries.csv'.\n",
      "Schema validation failed for JSON file 'Market 1 Customers.json'.\n"
     ]
    },
    {
     "name": "stderr",
     "output_type": "stream",
     "text": [
      "C:\\Users\\kobby\\AppData\\Local\\Temp\\ipykernel_16944\\322797100.py:27: DtypeWarning: Columns (12,14,16,19,30,31) have mixed types. Specify dtype option on import or set low_memory=False.\n",
      "  df = pd.read_csv(file_path)\n"
     ]
    }
   ],
   "source": [
    "import os\n",
    "import pandas as pd\n",
    "import json\n",
    "\n",
    "# Define base schemas for each type of data\n",
    "BASE_CUSTOMER_SCHEMA = {\n",
    "    \"Customer_ID\": \"\",\n",
    "    \"Last_Used_Platform\": \"\",\n",
    "    \"Is_Blocked\": \"\",\n",
    "    \"Created_At\": \"\",\n",
    "    \"Language\": \"\",\n",
    "    \"Outstanding_Amount\": \"\",\n",
    "    \"Loyalty_Points\": \"\",\n",
    "    \"Number_of_employees\": \"\"\n",
    "}\n",
    "\n",
    "BASE_ORDERS_SCHEMA = {\n",
    "    \"Order_ID\": \"\",\n",
    "    \"Order_Status\": \"\",\n",
    "    \"Category_Name\": \"\"\n",
    "    # Add other fields as per your requirements\n",
    "}\n",
    "\n",
    "def load_csv(file_path):\n",
    "    # Load CSV file into a pandas DataFrame\n",
    "    try:\n",
    "        df = pd.read_csv(file_path)\n",
    "        return df\n",
    "    except Exception as e:\n",
    "        print(f\"Error loading CSV file '{file_path}': {e}\")\n",
    "        return None\n",
    "\n",
    "def load_json(file_path):\n",
    "    # Load JSON file into a Python dictionary\n",
    "    try:\n",
    "        with open(file_path, 'r') as json_file:\n",
    "            data = json.load(json_file)\n",
    "            return data\n",
    "    except Exception as e:\n",
    "        print(f\"Error loading JSON file '{file_path}': {e}\")\n",
    "        return None\n",
    "\n",
    "def validate_schema(data, base_schema):\n",
    "    # Validate if all keys in base_schema are present in data\n",
    "    return all(key in data for key in base_schema)\n",
    "\n",
    "def load_data_from_folder(folder_path):\n",
    "    # Get list of files with their modification times\n",
    "    files = [(f, os.path.getmtime(os.path.join(folder_path, f))) for f in os.listdir(folder_path)]\n",
    "    files.sort(key=lambda x: x[1], reverse=True)\n",
    "    \n",
    "    num_files_to_process = 3  # Adjust as needed\n",
    "    for file_name, _ in files[:num_files_to_process]:\n",
    "        file_path = os.path.join(folder_path, file_name)\n",
    "        \n",
    "        if file_name.endswith('.csv'):\n",
    "            # Load CSV file\n",
    "            csv_data = load_csv(file_path)\n",
    "            if csv_data is not None:\n",
    "                if validate_schema(csv_data.columns.tolist(), BASE_CUSTOMER_SCHEMA.keys()):\n",
    "                    print(f\"CSV file '{file_name}' schema validated successfully.\")\n",
    "                    # Process or store the CSV data here\n",
    "                else:\n",
    "                    print(f\"Schema validation failed for CSV file '{file_name}'.\")\n",
    "        \n",
    "        elif file_name.endswith('.json'):\n",
    "            # Load JSON file\n",
    "            json_data = load_json(file_path)\n",
    "            if json_data is not None:\n",
    "                if validate_schema(json_data, BASE_ORDERS_SCHEMA):\n",
    "                    print(f\"JSON file '{file_name}' schema validated successfully.\")\n",
    "                    # Process or store the JSON data here\n",
    "                else:\n",
    "                    print(f\"Schema validation failed for JSON file '{file_name}'.\")\n",
    "        \n",
    "        else:\n",
    "            print(f\"Unsupported file format: '{file_name}'\")\n",
    "\n",
    "def main():\n",
    "    folder_path = 'C:/Users/kobby/OneDrive/Documents/Data Analysis/trestle_project/data-pipeline-for-a-large-e-commerce-platform/data_dir'  # Specify your folder path here\n",
    "    if not os.path.isdir(folder_path):\n",
    "        print(f\"Error: Folder '{folder_path}' not found.\")\n",
    "        return\n",
    "\n",
    "    load_data_from_folder(folder_path)\n",
    "\n",
    "if __name__ == \"__main__\":\n",
    "    main()\n"
   ]
  }
 ],
 "metadata": {
  "kernelspec": {
   "display_name": "base",
   "language": "python",
   "name": "python3"
  },
  "language_info": {
   "codemirror_mode": {
    "name": "ipython",
    "version": 3
   },
   "file_extension": ".py",
   "mimetype": "text/x-python",
   "name": "python",
   "nbconvert_exporter": "python",
   "pygments_lexer": "ipython3",
   "version": "3.11.5"
  }
 },
 "nbformat": 4,
 "nbformat_minor": 2
}
